{
 "cells": [
  {
   "cell_type": "markdown",
   "id": "b1a646f2-288a-4da0-9924-5507a6973591",
   "metadata": {},
   "source": [
    "## A Simple Approach To Templated SQL Queries In Python"
   ]
  },
  {
   "cell_type": "code",
   "execution_count": 2,
   "id": "323281bd-3e8e-4cc1-b0fb-147a68a46de3",
   "metadata": {},
   "outputs": [],
   "source": [
    "#  install duckdb"
   ]
  },
  {
   "cell_type": "code",
   "execution_count": 28,
   "id": "e1825a3c-54ff-4780-b5e0-a9f80977d661",
   "metadata": {},
   "outputs": [],
   "source": [
    "import pandas as pd\n",
    "import xlrd\n",
    "import pyodbc\n",
    "import warnings\n",
    "warnings.simplefilter('ignore', UserWarning)\n",
    "import sqlalchemy as sa\n",
    "from datetime import datetime\n",
    "import numpy as np\n",
    "import duckdb\n",
    "##%%\n",
    "pd.set_option('display.max_rows', 500)\n",
    "pd.set_option('display.max_columns', 500)\n",
    "pd.set_option('display.width', 1000)"
   ]
  },
  {
   "cell_type": "code",
   "execution_count": 29,
   "id": "e75b6046-89f1-48c5-91da-eba0d853e30c",
   "metadata": {},
   "outputs": [],
   "source": [
    "duckdb_conn = duckdb.connect(database=':memory:')"
   ]
  },
  {
   "cell_type": "markdown",
   "id": "8fc0025a-f441-49ed-b6e0-3ae4128c24d2",
   "metadata": {},
   "source": [
    "## query example"
   ]
  },
  {
   "cell_type": "code",
   "execution_count": 92,
   "id": "3024cac9-2ce3-4add-854c-df1bd50f61e6",
   "metadata": {},
   "outputs": [],
   "source": [
    "query=\"\"\"\n",
    "select\n",
    "    user_id\n",
    "    , count(*) as num_transactions\n",
    "    , sum(amount) as total_amount\n",
    "from\n",
    "    transactions\n",
    "where\n",
    "    user_id = 1234\n",
    "    and transaction_date = '2019-03-02'\n",
    "group by\n",
    "    user_id\n",
    "\"\"\""
   ]
  },
  {
   "cell_type": "code",
   "execution_count": 93,
   "id": "f3d9df0c-f0b0-4e50-8b81-c696662e4955",
   "metadata": {},
   "outputs": [],
   "source": [
    "## in jinja"
   ]
  },
  {
   "cell_type": "code",
   "execution_count": 94,
   "id": "4e73c740-f89b-49bb-9d67-1ba33536b696",
   "metadata": {},
   "outputs": [],
   "source": [
    "j_query=\"\"\"\n",
    "select\n",
    "    user_id\n",
    "    , count(*) as num_transactions\n",
    "    , sum(amount) as total_amount\n",
    "from\n",
    "    transactions\n",
    "where\n",
    "    user_id = {{ uid }}\n",
    "    and transaction_date = {{ tdate }}\n",
    "group by\n",
    "    user_id\n",
    "    \"\"\""
   ]
  },
  {
   "cell_type": "code",
   "execution_count": 95,
   "id": "84175272-8e86-43f0-8167-69ca4e90ff3e",
   "metadata": {},
   "outputs": [],
   "source": [
    "user_transaction_template = '''\n",
    "select\n",
    "    user_id\n",
    "    , count(*) as num_transactions\n",
    "    , sum(amount) as total_amount\n",
    "from\n",
    "    transactions\n",
    "where\n",
    "    user_id = {{ user_id }}\n",
    "    and transaction_date = {{ transaction_date }}\n",
    "group by\n",
    "    user_id\n",
    "'''"
   ]
  },
  {
   "cell_type": "code",
   "execution_count": 96,
   "id": "93e98be9-bdcd-4cac-8a4b-e5a6da527ffd",
   "metadata": {},
   "outputs": [],
   "source": [
    "## set params"
   ]
  },
  {
   "cell_type": "code",
   "execution_count": 103,
   "id": "372e30cb-4596-41db-ae5b-f6dec71a4829",
   "metadata": {},
   "outputs": [],
   "source": [
    "params = {\n",
    "    'user_id': 1234,\n",
    "    'transaction_date': '2019-03-02',\n",
    "}"
   ]
  },
  {
   "cell_type": "code",
   "execution_count": 104,
   "id": "2d49c6b9-639e-413a-a187-f4bbbfabab92",
   "metadata": {},
   "outputs": [],
   "source": [
    "## generate sql query"
   ]
  },
  {
   "cell_type": "code",
   "execution_count": 105,
   "id": "3531c2c6-c66f-4d4c-9c96-9bd5195877ba",
   "metadata": {},
   "outputs": [],
   "source": [
    "from jinjasql import JinjaSql\n",
    "j = JinjaSql(param_style='pyformat')\n",
    "query, bind_params = j.prepare_query(user_transaction_template, params)"
   ]
  },
  {
   "cell_type": "code",
   "execution_count": 106,
   "id": "c588f527-6084-4fd2-8eed-334a99bdb54d",
   "metadata": {},
   "outputs": [
    {
     "name": "stdout",
     "output_type": "stream",
     "text": [
      "\n",
      "select\n",
      "    user_id\n",
      "    , count(*) as num_transactions\n",
      "    , sum(amount) as total_amount\n",
      "from\n",
      "    transactions\n",
      "where\n",
      "    user_id = %(user_id_1)s\n",
      "    and transaction_date = %(transaction_date_2)s\n",
      "group by\n",
      "    user_id\n"
     ]
    }
   ],
   "source": [
    "print(query)\n"
   ]
  },
  {
   "cell_type": "code",
   "execution_count": 107,
   "id": "7bcec95b-d038-45ef-ac31-0069b39c694a",
   "metadata": {},
   "outputs": [
    {
     "name": "stdout",
     "output_type": "stream",
     "text": [
      "{'user_id_1': 1234, 'transaction_date_2': '2019-03-02'}\n"
     ]
    }
   ],
   "source": [
    "print(bind_params)"
   ]
  },
  {
   "cell_type": "code",
   "execution_count": 108,
   "id": "a719fc49-355d-4950-beee-88472e27e84c",
   "metadata": {},
   "outputs": [
    {
     "name": "stdout",
     "output_type": "stream",
     "text": [
      "\n",
      "select\n",
      "    user_id\n",
      "    , count(*) as num_transactions\n",
      "    , sum(amount) as total_amount\n",
      "from\n",
      "    transactions\n",
      "where\n",
      "    user_id = 1234\n",
      "    and transaction_date = 2019-03-02\n",
      "group by\n",
      "    user_id\n"
     ]
    }
   ],
   "source": [
    "print(query % bind_params)"
   ]
  },
  {
   "cell_type": "code",
   "execution_count": 44,
   "id": "95dd23d5-0c16-4c5c-9cc1-5ef688d24874",
   "metadata": {},
   "outputs": [],
   "source": [
    "## example to read"
   ]
  },
  {
   "cell_type": "code",
   "execution_count": 45,
   "id": "2b269bf3-7285-4fa6-a2ba-44bf3af0d751",
   "metadata": {},
   "outputs": [],
   "source": [
    "\n",
    "# import pandas as pd\n",
    "# frm = pd.read_sql(query, conn, params=bind_params)"
   ]
  },
  {
   "cell_type": "markdown",
   "id": "5588d185-7483-4d1a-ae8d-f1b939a714d0",
   "metadata": {},
   "source": [
    "## from DB"
   ]
  },
  {
   "cell_type": "code",
   "execution_count": 120,
   "id": "882134f4-f36c-43c7-815c-3048597acf61",
   "metadata": {},
   "outputs": [
    {
     "data": {
      "text/plain": [
       "<duckdb.duckdb.DuckDBPyConnection at 0x16fb9892ab0>"
      ]
     },
     "execution_count": 120,
     "metadata": {},
     "output_type": "execute_result"
    }
   ],
   "source": [
    "duckdb_conn = duckdb.connect(database=':memory:')\n",
    "duckdb_conn.execute(\"\"\"\n",
    "   ATTACH 'dbname=analytics user=analytic password=R6MRbe6tT4vS2n host=192.168.9.234 port=5432'\n",
    "   AS pg (TYPE POSTGRES)\"\"\")"
   ]
  },
  {
   "cell_type": "code",
   "execution_count": 121,
   "id": "8856ec99-09fe-48cc-8ec7-fab4a7fe1c42",
   "metadata": {},
   "outputs": [],
   "source": [
    "query=\"\"\"\n",
    "select * from pg.dwh.hr_structure limit 3\n",
    "\"\"\""
   ]
  },
  {
   "cell_type": "code",
   "execution_count": 122,
   "id": "f27940dd-d691-40c8-b43b-1f66f61046f1",
   "metadata": {},
   "outputs": [
    {
     "data": {
      "text/html": [
       "<div>\n",
       "<style scoped>\n",
       "    .dataframe tbody tr th:only-of-type {\n",
       "        vertical-align: middle;\n",
       "    }\n",
       "\n",
       "    .dataframe tbody tr th {\n",
       "        vertical-align: top;\n",
       "    }\n",
       "\n",
       "    .dataframe thead th {\n",
       "        text-align: right;\n",
       "    }\n",
       "</style>\n",
       "<table border=\"1\" class=\"dataframe\">\n",
       "  <thead>\n",
       "    <tr style=\"text-align: right;\">\n",
       "      <th></th>\n",
       "      <th>company</th>\n",
       "      <th>division</th>\n",
       "      <th>departaments</th>\n",
       "      <th>unit_</th>\n",
       "      <th>group_</th>\n",
       "      <th>amats</th>\n",
       "    </tr>\n",
       "  </thead>\n",
       "  <tbody>\n",
       "    <tr>\n",
       "      <th>0</th>\n",
       "      <td>Polipaks</td>\n",
       "      <td>Production division/ Operational block</td>\n",
       "      <td>Technical department</td>\n",
       "      <td>None</td>\n",
       "      <td>None</td>\n",
       "      <td>Galvenais mehāniķis</td>\n",
       "    </tr>\n",
       "    <tr>\n",
       "      <th>1</th>\n",
       "      <td>Polipaks</td>\n",
       "      <td>Production division/ Operational block</td>\n",
       "      <td>Production department</td>\n",
       "      <td>PRINT_LAM</td>\n",
       "      <td>PRINT (1)</td>\n",
       "      <td>1.iespiedmašīnas operators</td>\n",
       "    </tr>\n",
       "    <tr>\n",
       "      <th>2</th>\n",
       "      <td>Polipaks</td>\n",
       "      <td>Service departments</td>\n",
       "      <td>IT</td>\n",
       "      <td>None</td>\n",
       "      <td>None</td>\n",
       "      <td>1C speciāliste</td>\n",
       "    </tr>\n",
       "  </tbody>\n",
       "</table>\n",
       "</div>"
      ],
      "text/plain": [
       "      company                                division             departaments      unit_     group_                       amats\n",
       "0  Polipaks    Production division/ Operational block    Technical department        None       None         Galvenais mehāniķis\n",
       "1  Polipaks    Production division/ Operational block  Production department    PRINT_LAM  PRINT (1)  1.iespiedmašīnas operators\n",
       "2  Polipaks                      Service departments                        IT       None       None              1C speciāliste"
      ]
     },
     "execution_count": 122,
     "metadata": {},
     "output_type": "execute_result"
    }
   ],
   "source": [
    "duckdb_conn.execute(query).df()"
   ]
  },
  {
   "cell_type": "code",
   "execution_count": 123,
   "id": "626d95a8-cb52-477a-ae7f-04bdae216602",
   "metadata": {},
   "outputs": [],
   "source": [
    "user_transaction_template2 = '''\n",
    "select * from pg.dwh.hr_structure\n",
    "where departaments={{ dep }}\n",
    "limit 3\n",
    "'''"
   ]
  },
  {
   "cell_type": "code",
   "execution_count": 124,
   "id": "7a1ee626-b697-4f71-b01b-060a300b4c77",
   "metadata": {},
   "outputs": [],
   "source": [
    "params = {\n",
    "    'dep': 'IT',\n",
    "    \n",
    "}"
   ]
  },
  {
   "cell_type": "raw",
   "id": "163b10a9-3b3c-4df2-9d74-655f0b746f6f",
   "metadata": {},
   "source": [
    "Multiple Param Styles\n",
    "Per PEP-249, bind parameters can be specified in multiple ways. You can pass the optional constructor argument param_style to control the style of query parameter.\n",
    "\n",
    "format : ... where name = %s\n",
    "qmark : where name = ?\n",
    "numeric : where name = :1 and last_name = :2\n",
    "named : where name = :name and last_name = :last_name. This is the default.\n",
    "pyformat : where name = %(name)s and last_name = %(last_name)s\n",
    "asyncpg : where name = $1 and last_name = $2. This is not part of PEP-249 standard, but is used by asyncpg library for postgres\n",
    "Here's how it works -"
   ]
  },
  {
   "cell_type": "code",
   "execution_count": 125,
   "id": "771085af-de99-4a82-91b6-c833dfec2354",
   "metadata": {},
   "outputs": [],
   "source": [
    "from jinjasql import JinjaSql\n",
    "j = JinjaSql(param_style='qmark')\n",
    "query, bind_params = j.prepare_query(user_transaction_template2, params)"
   ]
  },
  {
   "cell_type": "code",
   "execution_count": 131,
   "id": "4b49a8b6-be0d-42a9-988c-bd5810d3a483",
   "metadata": {},
   "outputs": [
    {
     "data": {
      "text/plain": [
       "('\\nselect * from pg.dwh.hr_structure\\nwhere departaments=?\\nlimit 3', ('IT',))"
      ]
     },
     "execution_count": 131,
     "metadata": {},
     "output_type": "execute_result"
    }
   ],
   "source": [
    "query,( bind_params)"
   ]
  },
  {
   "cell_type": "code",
   "execution_count": null,
   "id": "0a36705e-5156-4e7c-9454-0f93d0800229",
   "metadata": {},
   "outputs": [],
   "source": []
  },
  {
   "cell_type": "code",
   "execution_count": 126,
   "id": "2329cac1-58d7-4caf-9532-6f4c4fc66c4c",
   "metadata": {},
   "outputs": [],
   "source": [
    "frm = duckdb_conn.execute(query, parameters=bind_params).df()"
   ]
  },
  {
   "cell_type": "code",
   "execution_count": 127,
   "id": "c80e1b38-dee1-4334-a862-02c7046eb68c",
   "metadata": {},
   "outputs": [
    {
     "name": "stdout",
     "output_type": "stream",
     "text": [
      "('IT',)\n"
     ]
    }
   ],
   "source": [
    "print(bind_params)"
   ]
  },
  {
   "cell_type": "code",
   "execution_count": 128,
   "id": "4be4e622-713f-4d2f-81d9-e035d4707f31",
   "metadata": {},
   "outputs": [
    {
     "name": "stdout",
     "output_type": "stream",
     "text": [
      "\n",
      "select * from pg.dwh.hr_structure\n",
      "where departaments=?\n",
      "limit 3\n"
     ]
    }
   ],
   "source": [
    "print(query)"
   ]
  },
  {
   "cell_type": "code",
   "execution_count": 89,
   "id": "57ed029a-f1bc-40db-81ad-0590def6d706",
   "metadata": {},
   "outputs": [
    {
     "data": {
      "text/html": [
       "<div>\n",
       "<style scoped>\n",
       "    .dataframe tbody tr th:only-of-type {\n",
       "        vertical-align: middle;\n",
       "    }\n",
       "\n",
       "    .dataframe tbody tr th {\n",
       "        vertical-align: top;\n",
       "    }\n",
       "\n",
       "    .dataframe thead th {\n",
       "        text-align: right;\n",
       "    }\n",
       "</style>\n",
       "<table border=\"1\" class=\"dataframe\">\n",
       "  <thead>\n",
       "    <tr style=\"text-align: right;\">\n",
       "      <th></th>\n",
       "      <th>company</th>\n",
       "      <th>division</th>\n",
       "      <th>departaments</th>\n",
       "      <th>unit_</th>\n",
       "      <th>group_</th>\n",
       "      <th>amats</th>\n",
       "    </tr>\n",
       "  </thead>\n",
       "  <tbody>\n",
       "    <tr>\n",
       "      <th>0</th>\n",
       "      <td>Polipaks</td>\n",
       "      <td>Service departments</td>\n",
       "      <td>IT</td>\n",
       "      <td>None</td>\n",
       "      <td>None</td>\n",
       "      <td>1C speciāliste</td>\n",
       "    </tr>\n",
       "    <tr>\n",
       "      <th>1</th>\n",
       "      <td>Polipaks</td>\n",
       "      <td>Service departments</td>\n",
       "      <td>IT</td>\n",
       "      <td>None</td>\n",
       "      <td>None</td>\n",
       "      <td>ERP administrators un atbalsta speciālists</td>\n",
       "    </tr>\n",
       "    <tr>\n",
       "      <th>2</th>\n",
       "      <td>Polipaks</td>\n",
       "      <td>Service departments</td>\n",
       "      <td>IT</td>\n",
       "      <td>None</td>\n",
       "      <td>None</td>\n",
       "      <td>ERP ieviešanas un atbalsta speciālists</td>\n",
       "    </tr>\n",
       "  </tbody>\n",
       "</table>\n",
       "</div>"
      ],
      "text/plain": [
       "      company              division departaments unit_ group_                                       amats\n",
       "0  Polipaks    Service departments            IT  None   None                              1C speciāliste\n",
       "1  Polipaks    Service departments            IT  None   None  ERP administrators un atbalsta speciālists\n",
       "2  Polipaks    Service departments            IT  None   None      ERP ieviešanas un atbalsta speciālists"
      ]
     },
     "execution_count": 89,
     "metadata": {},
     "output_type": "execute_result"
    }
   ],
   "source": [
    "frm"
   ]
  },
  {
   "cell_type": "markdown",
   "id": "8aaed8dc-ad44-4377-bf3a-4d8cf535ec5f",
   "metadata": {},
   "source": [
    "## From a template to the final SQL query"
   ]
  },
  {
   "cell_type": "code",
   "execution_count": 109,
   "id": "a37e791d-f30e-4383-9299-33864cc613e2",
   "metadata": {},
   "outputs": [],
   "source": [
    "from six import string_types\n",
    "def quote_sql_string(value):\n",
    "    '''\n",
    "    If `value` is a string type, escapes single quotes in the string\n",
    "    and returns the string enclosed in single quotes.\n",
    "    '''\n",
    "    if isinstance(value, string_types):\n",
    "        new_value = str(value)\n",
    "        new_value = new_value.replace(\"'\", \"''\")\n",
    "        return \"'{}'\".format(new_value)\n",
    "    return value"
   ]
  },
  {
   "cell_type": "code",
   "execution_count": 110,
   "id": "0a5a616e-d438-445c-9666-12d435bf936b",
   "metadata": {},
   "outputs": [],
   "source": [
    "## test"
   ]
  },
  {
   "cell_type": "code",
   "execution_count": 112,
   "id": "d8421993-4337-4697-8847-c9f563835cd0",
   "metadata": {},
   "outputs": [],
   "source": [
    "val=1\n",
    "vls='1'"
   ]
  },
  {
   "cell_type": "code",
   "execution_count": 113,
   "id": "d2e53ef8-1b39-460d-a37b-ed5a1b90a7da",
   "metadata": {},
   "outputs": [
    {
     "data": {
      "text/plain": [
       "1"
      ]
     },
     "execution_count": 113,
     "metadata": {},
     "output_type": "execute_result"
    }
   ],
   "source": [
    "quote_sql_string(val)"
   ]
  },
  {
   "cell_type": "code",
   "execution_count": 114,
   "id": "a90b1807-25a5-4a97-985d-1e13381c2e1f",
   "metadata": {},
   "outputs": [
    {
     "data": {
      "text/plain": [
       "\"'1'\""
      ]
     },
     "execution_count": 114,
     "metadata": {},
     "output_type": "execute_result"
    }
   ],
   "source": [
    "quote_sql_string(vls)"
   ]
  },
  {
   "cell_type": "code",
   "execution_count": 115,
   "id": "39723984-0884-4169-849b-1fd1ae0bdd85",
   "metadata": {},
   "outputs": [],
   "source": [
    "from copy import deepcopy\n",
    "def get_sql_from_template(query, bind_params):\n",
    "    if not bind_params:\n",
    "        return query\n",
    "    params = deepcopy(bind_params)\n",
    "    for key, val in params.items():\n",
    "        params[key] = quote_sql_string(val)\n",
    "    return query % params"
   ]
  },
  {
   "cell_type": "code",
   "execution_count": 116,
   "id": "806745b7-e8db-49a2-99be-93d735477534",
   "metadata": {},
   "outputs": [
    {
     "name": "stdout",
     "output_type": "stream",
     "text": [
      "\n",
      "select\n",
      "    user_id\n",
      "    , count(*) as num_transactions\n",
      "    , sum(amount) as total_amount\n",
      "from\n",
      "    transactions\n",
      "where\n",
      "    user_id = 1234\n",
      "    and transaction_date = '2019-03-02'\n",
      "group by\n",
      "    user_id\n"
     ]
    }
   ],
   "source": [
    "print(get_sql_from_template(query, bind_params))"
   ]
  },
  {
   "cell_type": "code",
   "execution_count": 119,
   "id": "d9d79f79-5151-449c-8a50-065aebec4505",
   "metadata": {},
   "outputs": [
    {
     "data": {
      "text/plain": [
       "('\\nselect\\n    user_id\\n    , count(*) as num_transactions\\n    , sum(amount) as total_amount\\nfrom\\n    transactions\\nwhere\\n    user_id = %(user_id_1)s\\n    and transaction_date = %(transaction_date_2)s\\ngroup by\\n    user_id',\n",
       " {'user_id_1': 1234, 'transaction_date_2': '2019-03-02'})"
      ]
     },
     "execution_count": 119,
     "metadata": {},
     "output_type": "execute_result"
    }
   ],
   "source": [
    "query , bind_params"
   ]
  },
  {
   "cell_type": "code",
   "execution_count": null,
   "id": "c91ce48b-bbe5-458d-81e6-64ca7f6e08b0",
   "metadata": {},
   "outputs": [],
   "source": []
  }
 ],
 "metadata": {
  "kernelspec": {
   "display_name": "Python 3 (ipykernel)",
   "language": "python",
   "name": "python3"
  },
  "language_info": {
   "codemirror_mode": {
    "name": "ipython",
    "version": 3
   },
   "file_extension": ".py",
   "mimetype": "text/x-python",
   "name": "python",
   "nbconvert_exporter": "python",
   "pygments_lexer": "ipython3",
   "version": "3.9.13"
  }
 },
 "nbformat": 4,
 "nbformat_minor": 5
}
