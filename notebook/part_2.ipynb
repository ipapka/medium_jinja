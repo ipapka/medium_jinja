{
 "cells": [
  {
   "cell_type": "code",
   "execution_count": 71,
   "id": "f6279893-574c-4203-9168-88066212bedf",
   "metadata": {},
   "outputs": [],
   "source": [
    "import pandas as pd\n",
    "import xlrd\n",
    "import pyodbc\n",
    "import warnings\n",
    "warnings.simplefilter('ignore', UserWarning)\n",
    "import sqlalchemy as sa\n",
    "from datetime import datetime\n",
    "import numpy as np\n",
    "import duckdb\n",
    "##%%\n",
    "pd.set_option('display.max_rows', 500)\n",
    "pd.set_option('display.max_columns', 500)\n",
    "pd.set_option('display.width', 1000)\n",
    "from sql_templates_base import *"
   ]
  },
  {
   "cell_type": "markdown",
   "id": "a1cd3adc-adb1-4090-8b7d-30268e5dc6be",
   "metadata": {},
   "source": [
    "## Example dataset"
   ]
  },
  {
   "cell_type": "code",
   "execution_count": 2,
   "id": "8ddcfc35-e4d8-4e5f-aa22-350e56852b80",
   "metadata": {},
   "outputs": [
    {
     "data": {
      "text/plain": [
       "<duckdb.duckdb.DuckDBPyConnection at 0x24884945f30>"
      ]
     },
     "execution_count": 2,
     "metadata": {},
     "output_type": "execute_result"
    }
   ],
   "source": [
    "duckdb_conn = duckdb.connect(database=':memory:')\n",
    "duckdb_conn.execute(\"\"\"\n",
    "   ATTACH 'dbname=analytics user=analytic password=R6MRbe6tT4vS2n host=192.168.9.234 port=5432'\n",
    "   AS pg (TYPE POSTGRES)\"\"\")"
   ]
  },
  {
   "cell_type": "code",
   "execution_count": 5,
   "id": "d12a42e0-91a8-4cf5-985d-4c14fd6ce89c",
   "metadata": {},
   "outputs": [],
   "source": [
    "create_query=\"\"\"\n",
    "create table transactions (\n",
    "    transaction_id int,\n",
    "    user_id int,\n",
    "    transaction_date date,\n",
    "    store_id int,\n",
    "    payment_method varchar(10),\n",
    "    amount float\n",
    ")\n",
    ";\n",
    "\"\"\""
   ]
  },
  {
   "cell_type": "code",
   "execution_count": 6,
   "id": "31a4dbab-3a3a-440b-990b-485e5595a917",
   "metadata": {},
   "outputs": [
    {
     "data": {
      "text/plain": [
       "<duckdb.duckdb.DuckDBPyConnection at 0x24884945f30>"
      ]
     },
     "execution_count": 6,
     "metadata": {},
     "output_type": "execute_result"
    }
   ],
   "source": [
    "duckdb_conn.execute(create_query)"
   ]
  },
  {
   "cell_type": "code",
   "execution_count": 55,
   "id": "1447d966-ad14-4897-aed0-74f35cf369c4",
   "metadata": {},
   "outputs": [],
   "source": [
    "insert_query=\"\"\"\n",
    "insert into transactions\n",
    "(transaction_id, user_id, transaction_date, store_id, payment_method, amount)\n",
    "values\n",
    "    (1, 1234, '2019-03-02', 1, 'cash', 5.25),\n",
    "    (1, 1234, '2019-03-01', 1, 'credit', 10.75),\n",
    "    (1, 1234, '2019-03-02', 2, 'cash', 25.50),\n",
    "    (1, 1234, '2019-03-03', 2, 'credit', 17.00),\n",
    "    (1, 4321, '2019-03-01', 2, 'cash', 20.00),\n",
    "    (1, 4321, '2019-03-02', 2, 'debit', 30.00),\n",
    "    (1, 4321, '2019-03-03', 1, 'cash', 3.00)\n",
    ";\n",
    "\"\"\""
   ]
  },
  {
   "cell_type": "code",
   "execution_count": 56,
   "id": "b37f263d-e457-4000-8607-f87c870e54ee",
   "metadata": {},
   "outputs": [],
   "source": [
    "insert_query=insert_query.replace(\"’\",\"'\")\n",
    "insert_query=insert_query.replace(\"‘\",\"'\")"
   ]
  },
  {
   "cell_type": "code",
   "execution_count": 57,
   "id": "ac075bd4-859f-4382-a1f4-9ba50fc4d112",
   "metadata": {},
   "outputs": [
    {
     "name": "stdout",
     "output_type": "stream",
     "text": [
      "\n",
      "insert into transactions\n",
      "(transaction_id, user_id, transaction_date, store_id, payment_method, amount)\n",
      "values\n",
      "    (1, 1234, '2019-03-02', 1, 'cash', 5.25),\n",
      "    (1, 1234, '2019-03-01', 1, 'credit', 10.75),\n",
      "    (1, 1234, '2019-03-02', 2, 'cash', 25.50),\n",
      "    (1, 1234, '2019-03-03', 2, 'credit', 17.00),\n",
      "    (1, 4321, '2019-03-01', 2, 'cash', 20.00),\n",
      "    (1, 4321, '2019-03-02', 2, 'debit', 30.00),\n",
      "    (1, 4321, '2019-03-03', 1, 'cash', 3.00)\n",
      ";\n",
      "\n"
     ]
    }
   ],
   "source": [
    "print(insert_query)"
   ]
  },
  {
   "cell_type": "code",
   "execution_count": 58,
   "id": "53473737-a2c0-4e1e-ad6b-82e8942a4f56",
   "metadata": {},
   "outputs": [
    {
     "data": {
      "text/plain": [
       "<duckdb.duckdb.DuckDBPyConnection at 0x24884945f30>"
      ]
     },
     "execution_count": 58,
     "metadata": {},
     "output_type": "execute_result"
    }
   ],
   "source": [
    "duckdb_conn.execute(insert_query)"
   ]
  },
  {
   "cell_type": "code",
   "execution_count": 59,
   "id": "e7e46087-944d-4e14-9963-0f7286c979ce",
   "metadata": {},
   "outputs": [],
   "source": [
    "#  check"
   ]
  },
  {
   "cell_type": "code",
   "execution_count": 60,
   "id": "65204e26-4fb0-4d11-b016-0d137629d0bb",
   "metadata": {},
   "outputs": [],
   "source": [
    "query=\"\"\"\n",
    "select * from transactions;\n",
    "\"\"\""
   ]
  },
  {
   "cell_type": "code",
   "execution_count": 61,
   "id": "51d8609c-3cdf-471c-8a5c-6fd9ad74873f",
   "metadata": {},
   "outputs": [],
   "source": [
    "df=duckdb_conn.execute(query).df()"
   ]
  },
  {
   "cell_type": "code",
   "execution_count": 62,
   "id": "7b22ed70-d69a-4164-b5b3-9e35c82c664f",
   "metadata": {},
   "outputs": [
    {
     "data": {
      "text/html": [
       "<div>\n",
       "<style scoped>\n",
       "    .dataframe tbody tr th:only-of-type {\n",
       "        vertical-align: middle;\n",
       "    }\n",
       "\n",
       "    .dataframe tbody tr th {\n",
       "        vertical-align: top;\n",
       "    }\n",
       "\n",
       "    .dataframe thead th {\n",
       "        text-align: right;\n",
       "    }\n",
       "</style>\n",
       "<table border=\"1\" class=\"dataframe\">\n",
       "  <thead>\n",
       "    <tr style=\"text-align: right;\">\n",
       "      <th></th>\n",
       "      <th>transaction_id</th>\n",
       "      <th>user_id</th>\n",
       "      <th>transaction_date</th>\n",
       "      <th>store_id</th>\n",
       "      <th>payment_method</th>\n",
       "      <th>amount</th>\n",
       "    </tr>\n",
       "  </thead>\n",
       "  <tbody>\n",
       "    <tr>\n",
       "      <th>0</th>\n",
       "      <td>1</td>\n",
       "      <td>1234</td>\n",
       "      <td>2019-03-02</td>\n",
       "      <td>1</td>\n",
       "      <td>cash</td>\n",
       "      <td>5.25</td>\n",
       "    </tr>\n",
       "    <tr>\n",
       "      <th>1</th>\n",
       "      <td>1</td>\n",
       "      <td>1234</td>\n",
       "      <td>2019-03-01</td>\n",
       "      <td>1</td>\n",
       "      <td>credit</td>\n",
       "      <td>10.75</td>\n",
       "    </tr>\n",
       "    <tr>\n",
       "      <th>2</th>\n",
       "      <td>1</td>\n",
       "      <td>1234</td>\n",
       "      <td>2019-03-02</td>\n",
       "      <td>2</td>\n",
       "      <td>cash</td>\n",
       "      <td>25.50</td>\n",
       "    </tr>\n",
       "    <tr>\n",
       "      <th>3</th>\n",
       "      <td>1</td>\n",
       "      <td>1234</td>\n",
       "      <td>2019-03-03</td>\n",
       "      <td>2</td>\n",
       "      <td>credit</td>\n",
       "      <td>17.00</td>\n",
       "    </tr>\n",
       "    <tr>\n",
       "      <th>4</th>\n",
       "      <td>1</td>\n",
       "      <td>4321</td>\n",
       "      <td>2019-03-01</td>\n",
       "      <td>2</td>\n",
       "      <td>cash</td>\n",
       "      <td>20.00</td>\n",
       "    </tr>\n",
       "  </tbody>\n",
       "</table>\n",
       "</div>"
      ],
      "text/plain": [
       "   transaction_id  user_id transaction_date  store_id payment_method  amount\n",
       "0               1     1234       2019-03-02         1           cash    5.25\n",
       "1               1     1234       2019-03-01         1         credit   10.75\n",
       "2               1     1234       2019-03-02         2           cash   25.50\n",
       "3               1     1234       2019-03-03         2         credit   17.00\n",
       "4               1     4321       2019-03-01         2           cash   20.00"
      ]
     },
     "execution_count": 62,
     "metadata": {},
     "output_type": "execute_result"
    }
   ],
   "source": [
    "df.head()"
   ]
  },
  {
   "cell_type": "code",
   "execution_count": 63,
   "id": "f6302214-0056-4273-96f4-a33049c3a395",
   "metadata": {},
   "outputs": [],
   "source": [
    "## metrics to calc"
   ]
  },
  {
   "cell_type": "raw",
   "id": "1468c873-bbbb-48a0-abab-89b0dca4a410",
   "metadata": {},
   "source": [
    "number of transactions\n",
    "average transaction amount\n",
    "the total amount of transactions"
   ]
  },
  {
   "cell_type": "code",
   "execution_count": 64,
   "id": "041b3906-e658-4e7f-b21f-5f3fa0dc7b11",
   "metadata": {},
   "outputs": [],
   "source": [
    "query=\"\"\"\n",
    "select\n",
    "    store_id\n",
    "    , count(*) as num_transactions\n",
    "    , sum(amount) as total_amount\n",
    "    , avg(amount) as avg_amount\n",
    "from\n",
    "    transactions\n",
    "group by\n",
    "    store_id\n",
    "order by total_amount desc\n",
    "\"\"\""
   ]
  },
  {
   "cell_type": "code",
   "execution_count": 65,
   "id": "567cef58-d47f-4eac-8118-92a583ad8fe7",
   "metadata": {},
   "outputs": [
    {
     "data": {
      "text/html": [
       "<div>\n",
       "<style scoped>\n",
       "    .dataframe tbody tr th:only-of-type {\n",
       "        vertical-align: middle;\n",
       "    }\n",
       "\n",
       "    .dataframe tbody tr th {\n",
       "        vertical-align: top;\n",
       "    }\n",
       "\n",
       "    .dataframe thead th {\n",
       "        text-align: right;\n",
       "    }\n",
       "</style>\n",
       "<table border=\"1\" class=\"dataframe\">\n",
       "  <thead>\n",
       "    <tr style=\"text-align: right;\">\n",
       "      <th></th>\n",
       "      <th>store_id</th>\n",
       "      <th>num_transactions</th>\n",
       "      <th>total_amount</th>\n",
       "      <th>avg_amount</th>\n",
       "    </tr>\n",
       "  </thead>\n",
       "  <tbody>\n",
       "    <tr>\n",
       "      <th>0</th>\n",
       "      <td>2</td>\n",
       "      <td>4</td>\n",
       "      <td>92.5</td>\n",
       "      <td>23.125000</td>\n",
       "    </tr>\n",
       "    <tr>\n",
       "      <th>1</th>\n",
       "      <td>1</td>\n",
       "      <td>3</td>\n",
       "      <td>19.0</td>\n",
       "      <td>6.333333</td>\n",
       "    </tr>\n",
       "  </tbody>\n",
       "</table>\n",
       "</div>"
      ],
      "text/plain": [
       "   store_id  num_transactions  total_amount  avg_amount\n",
       "0         2                 4          92.5   23.125000\n",
       "1         1                 3          19.0    6.333333"
      ]
     },
     "execution_count": 65,
     "metadata": {},
     "output_type": "execute_result"
    }
   ],
   "source": [
    "duckdb_conn.execute(query).df()"
   ]
  },
  {
   "cell_type": "raw",
   "id": "c433890d-a789-4bab-b8ab-1525d36292da",
   "metadata": {},
   "source": [
    "To get the same metrics for other dimensions, we only need to change the \n",
    "store_id into user_id or payment_method in both the select and group by \n",
    "clauses. So the JinjaSql template may look like"
   ]
  },
  {
   "cell_type": "code",
   "execution_count": 66,
   "id": "2b1fa9db-4863-4986-8528-0335ef3c0975",
   "metadata": {},
   "outputs": [],
   "source": [
    "_BASIC_STATS_TEMPLATE = '''\n",
    "select\n",
    "    {{ dim | sqlsafe }}\n",
    "    , count(*) as num_transactions\n",
    "    , sum(amount) as total_amount\n",
    "    , avg(amount) as avg_amount\n",
    "from\n",
    "    transactions\n",
    "group by\n",
    "    {{ dim | sqlsafe }}\n",
    "order by total_amount desc\n",
    "'''"
   ]
  },
  {
   "cell_type": "code",
   "execution_count": 67,
   "id": "bd0f4fdd-1a20-4898-bbda-540a040aadee",
   "metadata": {},
   "outputs": [],
   "source": [
    "## git https://github.com/sizrailev/life-around-data-code/blob/master/pylad/sql_templates_base.py"
   ]
  },
  {
   "cell_type": "code",
   "execution_count": 68,
   "id": "01f77cc5-d307-4f84-9415-12fc7f32c609",
   "metadata": {},
   "outputs": [],
   "source": [
    "def get_basic_stats_sql(dimensions):\n",
    "    '''\n",
    "    Returns the sql computing the number of transactions,\n",
    "    as well as the total and the average transaction amounts\n",
    "    for the provided list of column names as dimensions.\n",
    "    '''\n",
    "    # TODO: construct params\n",
    "    return apply_sql_template(_BASIC_STATS_TEMPLATE, params)"
   ]
  },
  {
   "cell_type": "markdown",
   "id": "2b62f056-8b38-4e99-b21b-c18268e027f2",
   "metadata": {},
   "source": [
    "## Passing a string generated outside the template"
   ]
  },
  {
   "cell_type": "code",
   "execution_count": 69,
   "id": "5aadca70-c7a0-4669-8aeb-fd9a9faad5ab",
   "metadata": {},
   "outputs": [],
   "source": [
    "def get_basic_stats_sql(dimensions):\n",
    "    '''\n",
    "    Returns the sql computing the number of transactions,\n",
    "    as well as the total and the average transaction amounts\n",
    "    for the provided list of column names as dimensions.\n",
    "    '''\n",
    "    params = {\n",
    "       'dim': '\\n    , '.join(dimensions)\n",
    "    }\n",
    "    return apply_sql_template(_BASIC_STATS_TEMPLATE, params)"
   ]
  },
  {
   "cell_type": "code",
   "execution_count": 72,
   "id": "4271106d-c0e2-4adf-92ff-af1b96eec747",
   "metadata": {},
   "outputs": [
    {
     "name": "stdout",
     "output_type": "stream",
     "text": [
      "\n",
      "select\n",
      "    store_id\n",
      "    , payment_method\n",
      "    , count(*) as num_transactions\n",
      "    , sum(amount) as total_amount\n",
      "    , avg(amount) as avg_amount\n",
      "from\n",
      "    transactions\n",
      "group by\n",
      "    store_id\n",
      "    , payment_method\n",
      "order by total_amount desc\n"
     ]
    }
   ],
   "source": [
    "print(get_basic_stats_sql(['store_id', 'payment_method']))"
   ]
  },
  {
   "cell_type": "code",
   "execution_count": 73,
   "id": "bca8f43e-56bb-4dd6-9245-d0db78e5fcb2",
   "metadata": {},
   "outputs": [],
   "source": [
    "dimension_lists = [\n",
    "    ['user_id'],\n",
    "    ['store_id'],\n",
    "    ['payment_method'],\n",
    "    ['store_id', 'payment_method'],\n",
    "]\n",
    "dimension_queries = [get_basic_stats_sql(dims) for dims in dimension_lists]"
   ]
  },
  {
   "cell_type": "code",
   "execution_count": 75,
   "id": "22dff547-6777-4b3e-b840-5d77eee0de52",
   "metadata": {},
   "outputs": [],
   "source": [
    "# dimension_queries"
   ]
  },
  {
   "cell_type": "code",
   "execution_count": null,
   "id": "d3bb7b6b-a6f8-4236-953a-c8fdd5309de2",
   "metadata": {},
   "outputs": [],
   "source": []
  }
 ],
 "metadata": {
  "kernelspec": {
   "display_name": "Python 3 (ipykernel)",
   "language": "python",
   "name": "python3"
  },
  "language_info": {
   "codemirror_mode": {
    "name": "ipython",
    "version": 3
   },
   "file_extension": ".py",
   "mimetype": "text/x-python",
   "name": "python",
   "nbconvert_exporter": "python",
   "pygments_lexer": "ipython3",
   "version": "3.9.13"
  }
 },
 "nbformat": 4,
 "nbformat_minor": 5
}
